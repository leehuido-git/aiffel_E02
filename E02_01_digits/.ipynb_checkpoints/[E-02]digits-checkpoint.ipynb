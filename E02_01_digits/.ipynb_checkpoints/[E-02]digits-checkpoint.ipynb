{
 "cells": [
  {
   "cell_type": "code",
   "execution_count": 1,
   "metadata": {},
   "outputs": [],
   "source": [
    "## 1. 필요한 모듈 import하기\n",
    "#\n",
    "import random\n",
    "import numpy as np\n",
    "import matplotlib.pyplot as plt\n",
    "\n",
    "from sklearn.datasets import load_digits\n",
    "from sklearn.model_selection import train_test_split\n",
    "from sklearn.tree import DecisionTreeClassifier\n",
    "from sklearn.ensemble import RandomForestClassifier\n",
    "from sklearn import svm\n",
    "from sklearn.linear_model import SGDClassifier\n",
    "from sklearn.linear_model import LogisticRegression\n",
    "from sklearn.metrics import classification_report"
   ]
  },
  {
   "cell_type": "code",
   "execution_count": 2,
   "metadata": {},
   "outputs": [],
   "source": [
    "check = True"
   ]
  },
  {
   "cell_type": "code",
   "execution_count": 3,
   "metadata": {},
   "outputs": [],
   "source": [
    "## 2. 데이터 준비\n",
    "#\n",
    "digits = load_digits()"
   ]
  },
  {
   "cell_type": "code",
   "execution_count": 4,
   "metadata": {},
   "outputs": [
    {
     "name": "stdout",
     "output_type": "stream",
     "text": [
      "[0 1 2 3 4 5 6 7 8 9]\n",
      ".. _digits_dataset:\n",
      "\n",
      "Optical recognition of handwritten digits dataset\n",
      "--------------------------------------------------\n",
      "\n",
      "**Data Set Characteristics:**\n",
      "\n",
      "    :Number of Instances: 1797\n",
      "    :Number of Attributes: 64\n",
      "    :Attribute Information: 8x8 image of integer pixels in the range 0..16.\n",
      "    :Missing Attribute Values: None\n",
      "    :Creator: E. Alpaydin (alpaydin '@' boun.edu.tr)\n",
      "    :Date: July; 1998\n",
      "\n",
      "This is a copy of the test set of the UCI ML hand-written digits datasets\n",
      "https://archive.ics.uci.edu/ml/datasets/Optical+Recognition+of+Handwritten+Digits\n",
      "\n",
      "The data set contains images of hand-written digits: 10 classes where\n",
      "each class refers to a digit.\n",
      "\n",
      "Preprocessing programs made available by NIST were used to extract\n",
      "normalized bitmaps of handwritten digits from a preprinted form. From a\n",
      "total of 43 people, 30 contributed to the training set and different 13\n",
      "to the test set. 32x32 bitmaps are divided into nonoverlapping blocks of\n",
      "4x4 and the number of on pixels are counted in each block. This generates\n",
      "an input matrix of 8x8 where each element is an integer in the range\n",
      "0..16. This reduces dimensionality and gives invariance to small\n",
      "distortions.\n",
      "\n",
      "For info on NIST preprocessing routines, see M. D. Garris, J. L. Blue, G.\n",
      "T. Candela, D. L. Dimmick, J. Geist, P. J. Grother, S. A. Janet, and C.\n",
      "L. Wilson, NIST Form-Based Handprint Recognition System, NISTIR 5469,\n",
      "1994.\n",
      "\n",
      ".. topic:: References\n",
      "\n",
      "  - C. Kaynak (1995) Methods of Combining Multiple Classifiers and Their\n",
      "    Applications to Handwritten Digit Recognition, MSc Thesis, Institute of\n",
      "    Graduate Studies in Science and Engineering, Bogazici University.\n",
      "  - E. Alpaydin, C. Kaynak (1998) Cascading Classifiers, Kybernetika.\n",
      "  - Ken Tang and Ponnuthurai N. Suganthan and Xi Yao and A. Kai Qin.\n",
      "    Linear dimensionalityreduction using relevance weighted LDA. School of\n",
      "    Electrical and Electronic Engineering Nanyang Technological University.\n",
      "    2005.\n",
      "  - Claudio Gentile. A New Approximate Maximal Margin Classification\n",
      "    Algorithm. NIPS. 2000.\n",
      "\n"
     ]
    }
   ],
   "source": [
    "feature_data = digits.data  #Feature Data 지정하기\n",
    "label_data = digits.target  #Label Data 지정하기\n",
    "print(digits.target_names)  #Target Names 출력해 보기\n",
    "print(digits.DESCR) #데이터 Describe 해 보기"
   ]
  },
  {
   "cell_type": "code",
   "execution_count": 5,
   "metadata": {},
   "outputs": [
    {
     "name": "stdout",
     "output_type": "stream",
     "text": [
      "img의 사이즈는 : 8x8입니다\n"
     ]
    },
    {
     "data": {
      "image/png": "[encoded data removed]",
      "text/plain": [
       "<Figure size 432x288 with 8 Axes>"
      ]
     },
     "metadata": {},
     "output_type": "display_data"
    }
   ],
   "source": [
    "## 3. 데이터 이해하기\n",
    "#\n",
    "if check:\n",
    "    fig = plt.figure()\n",
    "    ran_idxes = np.arange(len(feature_data))\n",
    "    np.random.shuffle(ran_idxes)\n",
    "    img_size = int(np.sqrt(len(feature_data[0])))\n",
    "    print(\"img의 사이즈는 : {}x{}입니다\".format(img_size, img_size))\n",
    "\n",
    "    for i in range(8):\n",
    "        ax= fig.add_subplot(2, 4, i+1)\n",
    "        ax.imshow(feature_data[ran_idxes[i]].reshape(img_size,img_size), cmap='gray')\n",
    "        ax.set_xlabel(str(label_data[ran_idxes[i]]))\n",
    "        ax.set_xticks([]), ax.set_yticks([])\n",
    "    plt.show()"
   ]
  },
  {
   "cell_type": "code",
   "execution_count": 6,
   "metadata": {},
   "outputs": [
    {
     "name": "stdout",
     "output_type": "stream",
     "text": [
      "data len: 1797\n",
      "train len: 1437, test len: 360\n"
     ]
    }
   ],
   "source": [
    "## 4. train, test 데이터 분리\n",
    "#\n",
    "x_train, x_test, y_train, y_test = train_test_split(digits.data, digits.target, test_size=0.2, random_state=random.randrange(1004))\n",
    "print(\"data len: {}\\ntrain len: {}, test len: {}\".format(len(feature_data), len(x_train), len(x_test)))  #데이터 길이 확인"
   ]
  },
  {
   "cell_type": "code",
   "execution_count": 12,
   "metadata": {},
   "outputs": [
    {
     "data": {
      "text/plain": [
       "LogisticRegression(max_iter=5000)"
      ]
     },
     "execution_count": 12,
     "metadata": {},
     "output_type": "execute_result"
    }
   ],
   "source": [
    "## 5. 다양한 모델로 학습시켜보기\n",
    "#\n",
    "models = []\n",
    "#Decision Tree\n",
    "decision_tree = DecisionTreeClassifier(random_state=32)\n",
    "models.append(decision_tree)\n",
    "decision_tree.fit(x_train, y_train)\n",
    "\n",
    "#Random Forest\n",
    "random_forest = RandomForestClassifier(random_state=32)\n",
    "models.append(random_forest)\n",
    "random_forest.fit(x_train, y_train)\n",
    "\n",
    "#Support Vector Machine (SVM)\n",
    "svm_model = svm.SVC()\n",
    "models.append(svm_model)\n",
    "svm_model.fit(x_train, y_train)\n",
    "\n",
    "#Stochastic Gradient Descent Classifier (SGDClassifier)\n",
    "sgd_model = SGDClassifier()\n",
    "models.append(sgd_model)\n",
    "sgd_model.fit(x_train, y_train)\n",
    "\n",
    "#Logistic Regression\n",
    "logistic_model = LogisticRegression(solver='lbfgs', max_iter=5000)\n",
    "models.append(logistic_model)\n",
    "logistic_model.fit(x_train, y_train)"
   ]
  },
  {
   "cell_type": "markdown",
   "metadata": {},
   "source": [
    "사이킷런의 LogisticRegression 모듈을 import해서 사용한 후에 위와 같은 에러\n",
    "창이 떴다. 에러 내용에 Increase the number of iterations max_iter or scal\n",
    "e the data as shown in ~ 이라는 문구가 있는 걸 봐서는\n",
    "  - 반복 횟수의 max를 크게 해주면 된다."
   ]
  },
  {
   "cell_type": "code",
   "execution_count": 8,
   "metadata": {},
   "outputs": [],
   "source": [
    "## 6. 모델을 평가해보기\n",
    "#\n",
    "y_pred = []\n",
    "for i in models:\n",
    "    y_pred.append(i.predict(x_test))"
   ]
  },
  {
   "cell_type": "code",
   "execution_count": 9,
   "metadata": {},
   "outputs": [],
   "source": [
    "accuracy = [['Decision Tree'], ['Random Forest'], ['SVM'], ['SGDClassifier'], ['Logistic Regression']]\n",
    "weighted_avg = [['Decision Tree'], ['Random Forest'], ['SVM'], ['SGDClassifier'], ['Logistic Regression']]\n",
    "for i, y_pred in enumerate(y_pred):\n",
    "    temp_class_report = classification_report(y_test, y_pred, output_dict=True)\n",
    "    accuracy[i].append(temp_class_report['accuracy'])\n",
    "    weighted_avg[i].append(temp_class_report['weighted avg']['f1-score'])"
   ]
  },
  {
   "cell_type": "code",
   "execution_count": 10,
   "metadata": {},
   "outputs": [
    {
     "name": "stdout",
     "output_type": "stream",
     "text": [
      "weighted avg f1 socre \n",
      ": [['Decision Tree', 0.8743905335111445], ['Random Forest', 0.9721009412437016], ['SVM', 0.9944560720667792], ['SGDClassifier', 0.961202641851616], ['Logistic Regression', 0.9641178057068626]]\n",
      "model = SVM, weigted_avg = 0.994인 사용하면 더 좋을 것 같다.\n"
     ]
    }
   ],
   "source": [
    "#print(\"accuracy: \", accuracy)\n",
    "print(\"weighted avg f1 socre \\n:\", weighted_avg)\n",
    "model_name, acc = max(weighted_avg, key=lambda k : k[1])\n",
    "print(\"model = {}, weigted_avg = {:.3f}인 사용하면 더 좋을 것 같다.\".format(model_name, acc))\n",
    "model_num = [i for i in range(len(weighted_avg)) if weighted_avg[i][0]==model_name]"
   ]
  },
  {
   "cell_type": "code",
   "execution_count": 11,
   "metadata": {},
   "outputs": [
    {
     "data": {
      "image/png": "[encoded data removed]",
      "text/plain": [
       "<Figure size 432x288 with 8 Axes>"
      ]
     },
     "metadata": {},
     "output_type": "display_data"
    }
   ],
   "source": [
    "if check:\n",
    "    fig = plt.figure()\n",
    "    ran_idxes = np.arange(len(x_test))\n",
    "    np.random.shuffle(ran_idxes)\n",
    "    img_size = int(np.sqrt(len(x_test[0])))\n",
    "    for i in range(8):\n",
    "        ax= fig.add_subplot(2, 4, i+1)\n",
    "        ax.imshow(x_test[ran_idxes[i]].reshape(img_size,img_size), cmap='gray')\n",
    "        ax.set_xlabel(str(models[model_num[-1]].predict(x_test[ran_idxes[i]].reshape(-1, len(x_test[0])))))\n",
    "        ax.set_xticks([]), ax.set_yticks([])\n",
    "    plt.show()\n",
    "#Micro Average(average)는 각각의 TP, FN, FP, TN값들을 모두 합친 total TP, total FN, total FP, total TN값들을 이용해 계산\n",
    "#Macro Average는 각각의 class에 따라 TP, FN, FP, TN값들을 이용해서 평가 지표를 계산한 후 그 값들의 평균을 사용\n",
    "#Weighted Average는 각 class에 해당하는 data의 개수에 가중치를 주어 평균\n",
    "#F1 score는 Recall과 Precision의 조화평균이므로 F1 score에 대해 비교해 보겠습니다."
   ]
  }
 ],
 "metadata": {
  "kernelspec": {
   "display_name": "Python 3 (ipykernel)",
   "language": "python",
   "name": "python3"
  },
  "language_info": {
   "codemirror_mode": {
    "name": "ipython",
    "version": 3
   },
   "file_extension": ".py",
   "mimetype": "text/x-python",
   "name": "python",
   "nbconvert_exporter": "python",
   "pygments_lexer": "ipython3",
   "version": "3.9.7"
  }
 },
 "nbformat": 4,
 "nbformat_minor": 4
}
