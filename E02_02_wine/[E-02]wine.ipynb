{
 "cells": [
  {
   "cell_type": "code",
   "execution_count": 1,
   "id": "b2da2785",
   "metadata": {},
   "outputs": [],
   "source": [
    "## 1. 필요한 모듈 import하기\n",
    "#\n",
    "import random\n",
    "from sklearn.datasets import load_wine\n",
    "from sklearn.model_selection import train_test_split\n",
    "from sklearn.tree import DecisionTreeClassifier\n",
    "from sklearn.ensemble import RandomForestClassifier\n",
    "from sklearn import svm\n",
    "from sklearn.linear_model import SGDClassifier\n",
    "from sklearn.linear_model import LogisticRegression\n",
    "from sklearn.metrics import classification_report"
   ]
  },
  {
   "cell_type": "code",
   "execution_count": 2,
   "id": "a080097f",
   "metadata": {},
   "outputs": [],
   "source": [
    "check = True"
   ]
  },
  {
   "cell_type": "code",
   "execution_count": 3,
   "id": "75715735",
   "metadata": {},
   "outputs": [],
   "source": [
    "## 2. 데이터 준비\n",
    "#\n",
    "wines = load_wine()"
   ]
  },
  {
   "cell_type": "code",
   "execution_count": 4,
   "id": "d81c0ae2",
   "metadata": {},
   "outputs": [
    {
     "name": "stdout",
     "output_type": "stream",
     "text": [
      "['class_0' 'class_1' 'class_2']\n",
      ".. _wine_dataset:\n",
      "\n",
      "Wine recognition dataset\n",
      "------------------------\n",
      "\n",
      "**Data Set Characteristics:**\n",
      "\n",
      "    :Number of Instances: 178 (50 in each of three classes)\n",
      "    :Number of Attributes: 13 numeric, predictive attributes and the class\n",
      "    :Attribute Information:\n",
      " \t\t- Alcohol\n",
      " \t\t- Malic acid\n",
      " \t\t- Ash\n",
      "\t\t- Alcalinity of ash  \n",
      " \t\t- Magnesium\n",
      "\t\t- Total phenols\n",
      " \t\t- Flavanoids\n",
      " \t\t- Nonflavanoid phenols\n",
      " \t\t- Proanthocyanins\n",
      "\t\t- Color intensity\n",
      " \t\t- Hue\n",
      " \t\t- OD280/OD315 of diluted wines\n",
      " \t\t- Proline\n",
      "\n",
      "    - class:\n",
      "            - class_0\n",
      "            - class_1\n",
      "            - class_2\n",
      "\t\t\n",
      "    :Summary Statistics:\n",
      "    \n",
      "    ============================= ==== ===== ======= =====\n",
      "                                   Min   Max   Mean     SD\n",
      "    ============================= ==== ===== ======= =====\n",
      "    Alcohol:                      11.0  14.8    13.0   0.8\n",
      "    Malic Acid:                   0.74  5.80    2.34  1.12\n",
      "    Ash:                          1.36  3.23    2.36  0.27\n",
      "    Alcalinity of Ash:            10.6  30.0    19.5   3.3\n",
      "    Magnesium:                    70.0 162.0    99.7  14.3\n",
      "    Total Phenols:                0.98  3.88    2.29  0.63\n",
      "    Flavanoids:                   0.34  5.08    2.03  1.00\n",
      "    Nonflavanoid Phenols:         0.13  0.66    0.36  0.12\n",
      "    Proanthocyanins:              0.41  3.58    1.59  0.57\n",
      "    Colour Intensity:              1.3  13.0     5.1   2.3\n",
      "    Hue:                          0.48  1.71    0.96  0.23\n",
      "    OD280/OD315 of diluted wines: 1.27  4.00    2.61  0.71\n",
      "    Proline:                       278  1680     746   315\n",
      "    ============================= ==== ===== ======= =====\n",
      "\n",
      "    :Missing Attribute Values: None\n",
      "    :Class Distribution: class_0 (59), class_1 (71), class_2 (48)\n",
      "    :Creator: R.A. Fisher\n",
      "    :Donor: Michael Marshall (MARSHALL%PLU@io.arc.nasa.gov)\n",
      "    :Date: July, 1988\n",
      "\n",
      "This is a copy of UCI ML Wine recognition datasets.\n",
      "https://archive.ics.uci.edu/ml/machine-learning-databases/wine/wine.data\n",
      "\n",
      "The data is the results of a chemical analysis of wines grown in the same\n",
      "region in Italy by three different cultivators. There are thirteen different\n",
      "measurements taken for different constituents found in the three types of\n",
      "wine.\n",
      "\n",
      "Original Owners: \n",
      "\n",
      "Forina, M. et al, PARVUS - \n",
      "An Extendible Package for Data Exploration, Classification and Correlation. \n",
      "Institute of Pharmaceutical and Food Analysis and Technologies,\n",
      "Via Brigata Salerno, 16147 Genoa, Italy.\n",
      "\n",
      "Citation:\n",
      "\n",
      "Lichman, M. (2013). UCI Machine Learning Repository\n",
      "[https://archive.ics.uci.edu/ml]. Irvine, CA: University of California,\n",
      "School of Information and Computer Science. \n",
      "\n",
      ".. topic:: References\n",
      "\n",
      "  (1) S. Aeberhard, D. Coomans and O. de Vel, \n",
      "  Comparison of Classifiers in High Dimensional Settings, \n",
      "  Tech. Rep. no. 92-02, (1992), Dept. of Computer Science and Dept. of  \n",
      "  Mathematics and Statistics, James Cook University of North Queensland. \n",
      "  (Also submitted to Technometrics). \n",
      "\n",
      "  The data was used with many others for comparing various \n",
      "  classifiers. The classes are separable, though only RDA \n",
      "  has achieved 100% correct classification. \n",
      "  (RDA : 100%, QDA 99.4%, LDA 98.9%, 1NN 96.1% (z-transformed data)) \n",
      "  (All results using the leave-one-out technique) \n",
      "\n",
      "  (2) S. Aeberhard, D. Coomans and O. de Vel, \n",
      "  \"THE CLASSIFICATION PERFORMANCE OF RDA\" \n",
      "  Tech. Rep. no. 92-01, (1992), Dept. of Computer Science and Dept. of \n",
      "  Mathematics and Statistics, James Cook University of North Queensland. \n",
      "  (Also submitted to Journal of Chemometrics).\n",
      "\n"
     ]
    }
   ],
   "source": [
    "## 3. 데이터 이해하기\n",
    "#\n",
    "feature_data = wines.data  #Feature Data 지정하기\n",
    "label_data = wines.target  #Label Data 지정하기\n",
    "print(wines.target_names)  #Target Names 출력해 보기\n",
    "print(wines.DESCR) #데이터 Describe 해 보기"
   ]
  },
  {
   "cell_type": "code",
   "execution_count": 5,
   "id": "e47835c3",
   "metadata": {},
   "outputs": [
    {
     "name": "stdout",
     "output_type": "stream",
     "text": [
      "data len: 178\n",
      "train len: 142, test len: 36\n"
     ]
    }
   ],
   "source": [
    "## 4. train, test 데이터 분리\n",
    "#\n",
    "x_train, x_test, y_train, y_test = train_test_split(feature_data, label_data, test_size=0.2, random_state=random.randrange(42))\n",
    "#random_state는 int 0 and 42을 받는다.\n",
    "print(\"data len: {}\\ntrain len: {}, test len: {}\".format(len(feature_data), len(x_train), len(x_test)))  #데이터 길이 확인"
   ]
  },
  {
   "cell_type": "code",
   "execution_count": 11,
   "id": "abf84522",
   "metadata": {},
   "outputs": [
    {
     "data": {
      "text/plain": [
       "LogisticRegression(max_iter=5000)"
      ]
     },
     "execution_count": 11,
     "metadata": {},
     "output_type": "execute_result"
    }
   ],
   "source": [
    "## 5. 다양한 모델로 학습시켜보기\n",
    "#\n",
    "models = []\n",
    "#Decision Tree\n",
    "decision_tree = DecisionTreeClassifier(random_state=32)\n",
    "models.append(decision_tree)\n",
    "decision_tree.fit(x_train, y_train)\n",
    "\n",
    "#Random Forest\n",
    "random_forest = RandomForestClassifier(random_state=32)\n",
    "models.append(random_forest)\n",
    "random_forest.fit(x_train, y_train)\n",
    "\n",
    "#Support Vector Machine (SVM)\n",
    "svm_model = svm.SVC()\n",
    "models.append(svm_model)\n",
    "svm_model.fit(x_train, y_train)\n",
    "\n",
    "#Stochastic Gradient Descent Classifier (SGDClassifier)\n",
    "sgd_model = SGDClassifier()\n",
    "models.append(sgd_model)\n",
    "sgd_model.fit(x_train, y_train)\n",
    "\n",
    "#Logistic Regression\n",
    "logistic_model = LogisticRegression(solver='lbfgs', max_iter=5000)\n",
    "models.append(logistic_model)\n",
    "logistic_model.fit(x_train, y_train)"
   ]
  },
  {
   "cell_type": "code",
   "execution_count": 13,
   "id": "8c96cc99",
   "metadata": {},
   "outputs": [],
   "source": [
    "## 6. 모델을 평가해보기\n",
    "#\n",
    "y_pred = []\n",
    "for i in models:\n",
    "    y_pred.append(i.predict(x_test))"
   ]
  },
  {
   "cell_type": "code",
   "execution_count": 14,
   "id": "1b9651e1",
   "metadata": {},
   "outputs": [
    {
     "name": "stdout",
     "output_type": "stream",
     "text": [
      "weighted avg f1 socre \n",
      ": [['Decision Tree', 0.9434624017957352], ['Random Forest', 1.0], ['SVM', 0.5405684754521964], ['SGDClassifier', 0.5115519075847393], ['Logistic Regression', 0.9720151828847481]]\n",
      "model = Random Forest, weigted_avg = 1.000인 사용하면 더 좋을 것 같다.\n"
     ]
    },
    {
     "name": "stderr",
     "output_type": "stream",
     "text": [
      "/opt/conda/lib/python3.9/site-packages/sklearn/metrics/_classification.py:1308: UndefinedMetricWarning: Precision and F-score are ill-defined and being set to 0.0 in labels with no predicted samples. Use `zero_division` parameter to control this behavior.\n",
      "  _warn_prf(average, modifier, msg_start, len(result))\n",
      "/opt/conda/lib/python3.9/site-packages/sklearn/metrics/_classification.py:1308: UndefinedMetricWarning: Precision and F-score are ill-defined and being set to 0.0 in labels with no predicted samples. Use `zero_division` parameter to control this behavior.\n",
      "  _warn_prf(average, modifier, msg_start, len(result))\n",
      "/opt/conda/lib/python3.9/site-packages/sklearn/metrics/_classification.py:1308: UndefinedMetricWarning: Precision and F-score are ill-defined and being set to 0.0 in labels with no predicted samples. Use `zero_division` parameter to control this behavior.\n",
      "  _warn_prf(average, modifier, msg_start, len(result))\n"
     ]
    }
   ],
   "source": [
    "accuracy = [['Decision Tree'], ['Random Forest'], ['SVM'], ['SGDClassifier'], ['Logistic Regression']]\n",
    "weighted_avg = [['Decision Tree'], ['Random Forest'], ['SVM'], ['SGDClassifier'], ['Logistic Regression']]\n",
    "for i, y_pred in enumerate(y_pred):\n",
    "    temp_class_report = classification_report(y_test, y_pred, output_dict=True)\n",
    "    accuracy[i].append(temp_class_report['accuracy'])\n",
    "    weighted_avg[i].append(temp_class_report['weighted avg']['f1-score'])\n",
    "\n",
    "print(\"weighted avg f1 socre \\n:\", weighted_avg)\n",
    "model_name, acc = max(weighted_avg, key=lambda k : k[1])\n",
    "print(\"model = {}, weigted_avg = {:.3f}인 사용하면 더 좋을 것 같다.\".format(model_name, acc))\n",
    "#Micro Average(average)는 각각의 TP, FN, FP, TN값들을 모두 합친 total TP, total FN, total FP, total TN값들을 이용해 계산\n",
    "#Macro Average는 각각의 class에 따라 TP, FN, FP, TN값들을 이용해서 평가 지표를 계산한 후 그 값들의 평균을 사용\n",
    "#Weighted Average는 각 class에 해당하는 data의 개수에 가중치를 주어 평균\n",
    "#F1 score는 Recall과 Precision의 조화평균이므로 F1 score에 대해 비교해 보겠습니다."
   ]
  },
  {
   "cell_type": "code",
   "execution_count": null,
   "id": "aaf34d38",
   "metadata": {},
   "outputs": [],
   "source": []
  }
 ],
 "metadata": {
  "kernelspec": {
   "display_name": "Python 3 (ipykernel)",
   "language": "python",
   "name": "python3"
  },
  "language_info": {
   "codemirror_mode": {
    "name": "ipython",
    "version": 3
   },
   "file_extension": ".py",
   "mimetype": "text/x-python",
   "name": "python",
   "nbconvert_exporter": "python",
   "pygments_lexer": "ipython3",
   "version": "3.9.7"
  }
 },
 "nbformat": 4,
 "nbformat_minor": 5
}
