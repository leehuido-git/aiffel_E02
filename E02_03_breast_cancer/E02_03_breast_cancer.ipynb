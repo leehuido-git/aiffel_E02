{
 "cells": [
  {
   "cell_type": "code",
   "execution_count": 1,
   "id": "2f7131a9",
   "metadata": {},
   "outputs": [],
   "source": [
    "## 1. 필요한 모듈 import하기\n",
    "#\n",
    "import random\n",
    "from sklearn.datasets import load_breast_cancer\n",
    "from sklearn.model_selection import train_test_split\n",
    "from sklearn.tree import DecisionTreeClassifier\n",
    "from sklearn.ensemble import RandomForestClassifier\n",
    "from sklearn import svm\n",
    "from sklearn.linear_model import SGDClassifier\n",
    "from sklearn.linear_model import LogisticRegression\n",
    "from sklearn.metrics import classification_report"
   ]
  },
  {
   "cell_type": "code",
   "execution_count": 2,
   "id": "eb44d53f",
   "metadata": {},
   "outputs": [],
   "source": [
    "## 2. 데이터 준비\n",
    "#\n",
    "breast_cancer = load_breast_cancer()"
   ]
  },
  {
   "cell_type": "code",
   "execution_count": 3,
   "id": "102407ad",
   "metadata": {},
   "outputs": [
    {
     "name": "stdout",
     "output_type": "stream",
     "text": [
      "['malignant' 'benign']\n",
      ".. _breast_cancer_dataset:\n",
      "\n",
      "Breast cancer wisconsin (diagnostic) dataset\n",
      "--------------------------------------------\n",
      "\n",
      "**Data Set Characteristics:**\n",
      "\n",
      "    :Number of Instances: 569\n",
      "\n",
      "    :Number of Attributes: 30 numeric, predictive attributes and the class\n",
      "\n",
      "    :Attribute Information:\n",
      "        - radius (mean of distances from center to points on the perimeter)\n",
      "        - texture (standard deviation of gray-scale values)\n",
      "        - perimeter\n",
      "        - area\n",
      "        - smoothness (local variation in radius lengths)\n",
      "        - compactness (perimeter^2 / area - 1.0)\n",
      "        - concavity (severity of concave portions of the contour)\n",
      "        - concave points (number of concave portions of the contour)\n",
      "        - symmetry\n",
      "        - fractal dimension (\"coastline approximation\" - 1)\n",
      "\n",
      "        The mean, standard error, and \"worst\" or largest (mean of the three\n",
      "        worst/largest values) of these features were computed for each image,\n",
      "        resulting in 30 features.  For instance, field 0 is Mean Radius, field\n",
      "        10 is Radius SE, field 20 is Worst Radius.\n",
      "\n",
      "        - class:\n",
      "                - WDBC-Malignant\n",
      "                - WDBC-Benign\n",
      "\n",
      "    :Summary Statistics:\n",
      "\n",
      "    ===================================== ====== ======\n",
      "                                           Min    Max\n",
      "    ===================================== ====== ======\n",
      "    radius (mean):                        6.981  28.11\n",
      "    texture (mean):                       9.71   39.28\n",
      "    perimeter (mean):                     43.79  188.5\n",
      "    area (mean):                          143.5  2501.0\n",
      "    smoothness (mean):                    0.053  0.163\n",
      "    compactness (mean):                   0.019  0.345\n",
      "    concavity (mean):                     0.0    0.427\n",
      "    concave points (mean):                0.0    0.201\n",
      "    symmetry (mean):                      0.106  0.304\n",
      "    fractal dimension (mean):             0.05   0.097\n",
      "    radius (standard error):              0.112  2.873\n",
      "    texture (standard error):             0.36   4.885\n",
      "    perimeter (standard error):           0.757  21.98\n",
      "    area (standard error):                6.802  542.2\n",
      "    smoothness (standard error):          0.002  0.031\n",
      "    compactness (standard error):         0.002  0.135\n",
      "    concavity (standard error):           0.0    0.396\n",
      "    concave points (standard error):      0.0    0.053\n",
      "    symmetry (standard error):            0.008  0.079\n",
      "    fractal dimension (standard error):   0.001  0.03\n",
      "    radius (worst):                       7.93   36.04\n",
      "    texture (worst):                      12.02  49.54\n",
      "    perimeter (worst):                    50.41  251.2\n",
      "    area (worst):                         185.2  4254.0\n",
      "    smoothness (worst):                   0.071  0.223\n",
      "    compactness (worst):                  0.027  1.058\n",
      "    concavity (worst):                    0.0    1.252\n",
      "    concave points (worst):               0.0    0.291\n",
      "    symmetry (worst):                     0.156  0.664\n",
      "    fractal dimension (worst):            0.055  0.208\n",
      "    ===================================== ====== ======\n",
      "\n",
      "    :Missing Attribute Values: None\n",
      "\n",
      "    :Class Distribution: 212 - Malignant, 357 - Benign\n",
      "\n",
      "    :Creator:  Dr. William H. Wolberg, W. Nick Street, Olvi L. Mangasarian\n",
      "\n",
      "    :Donor: Nick Street\n",
      "\n",
      "    :Date: November, 1995\n",
      "\n",
      "This is a copy of UCI ML Breast Cancer Wisconsin (Diagnostic) datasets.\n",
      "https://goo.gl/U2Uwz2\n",
      "\n",
      "Features are computed from a digitized image of a fine needle\n",
      "aspirate (FNA) of a breast mass.  They describe\n",
      "characteristics of the cell nuclei present in the image.\n",
      "\n",
      "Separating plane described above was obtained using\n",
      "Multisurface Method-Tree (MSM-T) [K. P. Bennett, \"Decision Tree\n",
      "Construction Via Linear Programming.\" Proceedings of the 4th\n",
      "Midwest Artificial Intelligence and Cognitive Science Society,\n",
      "pp. 97-101, 1992], a classification method which uses linear\n",
      "programming to construct a decision tree.  Relevant features\n",
      "were selected using an exhaustive search in the space of 1-4\n",
      "features and 1-3 separating planes.\n",
      "\n",
      "The actual linear program used to obtain the separating plane\n",
      "in the 3-dimensional space is that described in:\n",
      "[K. P. Bennett and O. L. Mangasarian: \"Robust Linear\n",
      "Programming Discrimination of Two Linearly Inseparable Sets\",\n",
      "Optimization Methods and Software 1, 1992, 23-34].\n",
      "\n",
      "This database is also available through the UW CS ftp server:\n",
      "\n",
      "ftp ftp.cs.wisc.edu\n",
      "cd math-prog/cpo-dataset/machine-learn/WDBC/\n",
      "\n",
      ".. topic:: References\n",
      "\n",
      "   - W.N. Street, W.H. Wolberg and O.L. Mangasarian. Nuclear feature extraction \n",
      "     for breast tumor diagnosis. IS&T/SPIE 1993 International Symposium on \n",
      "     Electronic Imaging: Science and Technology, volume 1905, pages 861-870,\n",
      "     San Jose, CA, 1993.\n",
      "   - O.L. Mangasarian, W.N. Street and W.H. Wolberg. Breast cancer diagnosis and \n",
      "     prognosis via linear programming. Operations Research, 43(4), pages 570-577, \n",
      "     July-August 1995.\n",
      "   - W.H. Wolberg, W.N. Street, and O.L. Mangasarian. Machine learning techniques\n",
      "     to diagnose breast cancer from fine-needle aspirates. Cancer Letters 77 (1994) \n",
      "     163-171.\n"
     ]
    }
   ],
   "source": [
    "## 3. 데이터 이해하기\n",
    "#\n",
    "feature_data = breast_cancer.data  #Feature Data 지정하기\n",
    "label_data = breast_cancer.target  #Label Data 지정하기\n",
    "print(breast_cancer.target_names)  #Target Names 출력해 보기\n",
    "print(breast_cancer.DESCR) #데이터 Describe 해 보기"
   ]
  },
  {
   "cell_type": "code",
   "execution_count": 4,
   "id": "71519935",
   "metadata": {},
   "outputs": [
    {
     "name": "stdout",
     "output_type": "stream",
     "text": [
      "data len: 569\n",
      "train len: 455, test len: 114\n"
     ]
    }
   ],
   "source": [
    "## 4. train, test 데이터 분리\n",
    "#\n",
    "x_train, x_test, y_train, y_test = train_test_split(feature_data, label_data, test_size=0.2, random_state=random.randrange(42))\n",
    "#random_state는 int 0 and 42을 받는다.\n",
    "print(\"data len: {}\\ntrain len: {}, test len: {}\".format(len(feature_data), len(x_train), len(x_test)))  #데이터 길이 확인"
   ]
  },
  {
   "cell_type": "code",
   "execution_count": 6,
   "id": "88d7df97",
   "metadata": {},
   "outputs": [
    {
     "data": {
      "text/plain": [
       "LogisticRegression(max_iter=5000)"
      ]
     },
     "execution_count": 6,
     "metadata": {},
     "output_type": "execute_result"
    }
   ],
   "source": [
    "## 5. 다양한 모델로 학습시켜보기\n",
    "#\n",
    "models = []\n",
    "#Decision Tree\n",
    "decision_tree = DecisionTreeClassifier(random_state=32)\n",
    "models.append(decision_tree)\n",
    "decision_tree.fit(x_train, y_train)\n",
    "\n",
    "#Random Forest\n",
    "random_forest = RandomForestClassifier(random_state=32)\n",
    "models.append(random_forest)\n",
    "random_forest.fit(x_train, y_train)\n",
    "\n",
    "#Support Vector Machine (SVM)\n",
    "svm_model = svm.SVC()\n",
    "models.append(svm_model)\n",
    "svm_model.fit(x_train, y_train)\n",
    "\n",
    "#Stochastic Gradient Descent Classifier (SGDClassifier)\n",
    "sgd_model = SGDClassifier()\n",
    "models.append(sgd_model)\n",
    "sgd_model.fit(x_train, y_train)\n",
    "\n",
    "#Logistic Regression\n",
    "logistic_model = LogisticRegression(solver='lbfgs', max_iter=5000)\n",
    "models.append(logistic_model)\n",
    "logistic_model.fit(x_train, y_train)"
   ]
  },
  {
   "cell_type": "code",
   "execution_count": 7,
   "id": "e7677b4d",
   "metadata": {},
   "outputs": [],
   "source": [
    "## 6. 모델을 평가해보기\n",
    "#\n",
    "y_pred = []\n",
    "for i in models:\n",
    "    y_pred.append(i.predict(x_test))"
   ]
  },
  {
   "cell_type": "code",
   "execution_count": 8,
   "id": "5a2040e6",
   "metadata": {},
   "outputs": [
    {
     "name": "stdout",
     "output_type": "stream",
     "text": [
      "weighted avg f1 socre \n",
      ": [['Decision Tree', 0.9042544041866195], ['Random Forest', 0.9298245614035088], ['SVM', 0.9104333314859631], ['SGDClassifier', 0.9190501662906716], ['Logistic Regression', 0.938413913468575]]\n",
      "model = Logistic Regression, weigted_avg = 0.938인 사용하면 더 좋을 것 같다.\n"
     ]
    }
   ],
   "source": [
    "accuracy = [['Decision Tree'], ['Random Forest'], ['SVM'], ['SGDClassifier'], ['Logistic Regression']]\n",
    "weighted_avg = [['Decision Tree'], ['Random Forest'], ['SVM'], ['SGDClassifier'], ['Logistic Regression']]\n",
    "for i, y_pred in enumerate(y_pred):\n",
    "    temp_class_report = classification_report(y_test, y_pred, output_dict=True)\n",
    "    accuracy[i].append(temp_class_report['accuracy'])\n",
    "    weighted_avg[i].append(temp_class_report['weighted avg']['f1-score'])\n",
    "\n",
    "print(\"weighted avg f1 socre \\n:\", weighted_avg)\n",
    "model_name, acc = max(weighted_avg, key=lambda k : k[1])\n",
    "print(\"model = {}, weigted_avg = {:.3f}인 사용하면 더 좋을 것 같다.\".format(model_name, acc))\n",
    "#Micro Average(average)는 각각의 TP, FN, FP, TN값들을 모두 합친 total TP, total FN, total FP, total TN값들을 이용해 계산\n",
    "#Macro Average는 각각의 class에 따라 TP, FN, FP, TN값들을 이용해서 평가 지표를 계산한 후 그 값들의 평균을 사용\n",
    "#Weighted Average는 각 class에 해당하는 data의 개수에 가중치를 주어 평균\n",
    "#F1 score는 Recall과 Precision의 조화평균이므로 F1 score에 대해 비교해 보겠습니다."
   ]
  },
  {
   "cell_type": "code",
   "execution_count": null,
   "id": "f15fe4d0",
   "metadata": {},
   "outputs": [],
   "source": []
  }
 ],
 "metadata": {
  "kernelspec": {
   "display_name": "Python 3 (ipykernel)",
   "language": "python",
   "name": "python3"
  },
  "language_info": {
   "codemirror_mode": {
    "name": "ipython",
    "version": 3
   },
   "file_extension": ".py",
   "mimetype": "text/x-python",
   "name": "python",
   "nbconvert_exporter": "python",
   "pygments_lexer": "ipython3",
   "version": "3.9.7"
  }
 },
 "nbformat": 4,
 "nbformat_minor": 5
}
